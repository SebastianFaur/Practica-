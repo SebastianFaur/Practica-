{
 "cells": [
  {
   "cell_type": "markdown",
   "id": "2b7a387e-cb0a-4982-b955-040de5f0f376",
   "metadata": {},
   "source": [
    "## Import libraries"
   ]
  },
  {
   "cell_type": "code",
   "execution_count": null,
   "id": "f67bcd8a-a3b7-4860-8d6a-fb5dddfc974b",
   "metadata": {},
   "outputs": [],
   "source": [
    "import pandas as pd\n",
    "from PIL import Image\n",
    "import matplotlib.pyplot as plt\n",
    "import numpy as np\n",
    "import tensorflow as tf\n",
    "from tensorflow.keras.models import Sequential\n",
    "from tensorflow.keras.layers import Dense\n",
    "from tensorflow.keras.utils import to_categorical\n"
   ]
  },
  {
   "cell_type": "markdown",
   "id": "623b14ba-4821-4e48-8c2e-a7f34655cbee",
   "metadata": {},
   "source": [
    "# Load dataset"
   ]
  },
  {
   "cell_type": "code",
   "execution_count": null,
   "id": "c03323bd-cabf-4f2c-8662-007b277e9ccc",
   "metadata": {},
   "outputs": [],
   "source": [
    "df = pd.read_csv(\"gtsrb_dataset.csv\")"
   ]
  },
  {
   "cell_type": "markdown",
   "id": "2389392e-111c-4b2f-b231-e71348e3d23a",
   "metadata": {},
   "source": [
    "### relevant classes"
   ]
  },
  {
   "cell_type": "code",
   "execution_count": null,
   "id": "53f62121-ff2e-44b7-87e9-a1dce5407754",
   "metadata": {},
   "outputs": [],
   "source": [
    "speed_classes = [1, 2, 3, 4, 5, 7, 8, 9, 10, 11, 12]"
   ]
  },
  {
   "cell_type": "markdown",
   "id": "2bf033c0-b646-4a24-b529-74a76eedb8cb",
   "metadata": {},
   "source": [
    "### change label"
   ]
  },
  {
   "cell_type": "code",
   "execution_count": null,
   "id": "9f0a38d0-cf7d-4540-ad78-32a6cdbbb498",
   "metadata": {},
   "outputs": [],
   "source": [
    "new_labels = {\n",
    "    1: 0,\n",
    "    2: 1,\n",
    "    3: 2,\n",
    "    4: 3,\n",
    "    5: 4,\n",
    "    7: 5,\n",
    "    8: 7,\n",
    "    9: 8,\n",
    "    10: 9,\n",
    "    11: 10,\n",
    "    12: 11\n",
    "}\n",
    "\n",
    "df_speed = pd.DataFrame(columns=df.columns)\n",
    "\n",
    "for index, row in df.iterrows():\n",
    "    original_label = row[\"label\"]\n",
    "    if original_label in speed_classes:\n",
    "        \n",
    "        \n",
    "        new_row = row.copy()\n",
    "\n",
    "        new_label = new_labels[original_label]\n",
    "        new_row[\"label\"] = new_label\n",
    "\n",
    "        df_speed = pd.concat([df_speed, pd.DataFrame([new_row])], ignore_index=True)\n",
    "print(df_speed)"
   ]
  },
  {
   "cell_type": "markdown",
   "id": "1072bacb-29c6-41e6-83ff-1da6c0f34a5f",
   "metadata": {},
   "source": [
    "### see the distribution of the dataset"
   ]
  },
  {
   "cell_type": "code",
   "execution_count": null,
   "id": "c09eca4b-a214-449d-92cb-6bf0456421ed",
   "metadata": {},
   "outputs": [],
   "source": [
    "counts = df_speed[\"label\"].value_counts().sort_index()\n",
    "\n",
    "# Afișăm valorile în consolă\n",
    "print(\"Distribuția etichetelor:\")\n",
    "for label, count in counts.items():\n",
    "    print(f\"Etichetă {label}: {count} exemple\")\n",
    "\n",
    "# Afișăm graficul\n",
    "plt.figure(figsize=(8, 5))\n",
    "counts.plot(kind=\"bar\")\n",
    "plt.title(\"Distribuția etichetelor în dataset\")\n",
    "plt.xlabel(\"Etichetă\")\n",
    "plt.ylabel(\"Număr de exemple\")\n",
    "plt.grid(axis='y')\n",
    "plt.show()"
   ]
  },
  {
   "cell_type": "markdown",
   "id": "32322a1d-a92a-4f16-97a4-8e99c5340266",
   "metadata": {},
   "source": [
    "### Balance the dataframe"
   ]
  },
  {
   "cell_type": "code",
   "execution_count": null,
   "id": "a188d789-4aba-4e02-9120-1eb64871bb10",
   "metadata": {},
   "outputs": [],
   "source": [
    "\n",
    "balanced_df = []\n",
    "max_per_class = 1000\n",
    "for label,count in counts.items():\n",
    "    df_label = df_speed[df_speed['label'] == label]\n",
    "    if len(df_label) > max_per_class:\n",
    "        df_sample = df_label.sample(n=max_per_class, random_state=10)\n",
    "        balanced_df.append(df_sample)\n",
    "    else:\n",
    "        balanced_df.append(df_label)\n",
    "\n",
    "df_speed = pd.concat(balanced_df).reset_index(drop=True)"
   ]
  },
  {
   "cell_type": "markdown",
   "id": "25df5446-e422-4b7c-97ed-22010422e9ad",
   "metadata": {},
   "source": [
    "### see the new distribution"
   ]
  },
  {
   "cell_type": "code",
   "execution_count": null,
   "id": "2b266a18-fda6-487c-beca-6462930da236",
   "metadata": {},
   "outputs": [],
   "source": [
    "counts = df_speed[\"label\"].value_counts().sort_index()\n",
    "\n",
    "# Afișăm valorile în consolă\n",
    "print(\"Distribuția etichetelor:\")\n",
    "for label, count in counts.items():\n",
    "    print(f\"Etichetă {label}: {count} exemple\")\n",
    "\n",
    "# Afișăm graficul\n",
    "plt.figure(figsize=(8, 5))\n",
    "counts.plot(kind=\"bar\")\n",
    "plt.title(\"Distribuția etichetelor în dataset\")\n",
    "plt.xlabel(\"Etichetă\")\n",
    "plt.ylabel(\"Număr de exemple\")\n",
    "plt.grid(axis='y')\n",
    "plt.show()"
   ]
  },
  {
   "cell_type": "markdown",
   "id": "89106b26-402f-49b5-9c3b-b51454e62b28",
   "metadata": {},
   "source": [
    "## Prepare test train datasets"
   ]
  },
  {
   "cell_type": "markdown",
   "id": "5b9d0d41-fbb9-4b4a-92a0-4c5d08b21057",
   "metadata": {},
   "source": [
    "### shuffle the dataset"
   ]
  },
  {
   "cell_type": "code",
   "execution_count": null,
   "id": "406fd764-0841-450c-9e03-aca9d0f69602",
   "metadata": {},
   "outputs": [],
   "source": [
    "df_shuffled = df_speed.sample(frac=1, random_state=42).reset_index(drop=True)"
   ]
  },
  {
   "cell_type": "markdown",
   "id": "bfdc0814-1115-42f4-a322-10aabae07559",
   "metadata": {},
   "source": [
    "### split the dataset"
   ]
  },
  {
   "cell_type": "code",
   "execution_count": null,
   "id": "e5d313e0-94f3-49e8-9e0e-118197facff2",
   "metadata": {},
   "outputs": [],
   "source": [
    "train_test_ratio = 0.8\n",
    "train_size = (int)(len(df_shuffled) *0.8)\n",
    "test_size = len(df_shuffled) - train_size\n",
    "df_train    = df_shuffled.iloc[:train_size].reset_index(drop=True)\n",
    "df_test     = df_shuffled.iloc[train_size:].reset_index(drop=True)\n",
    "\n",
    "print(\"Train:\", len(df_train), \"– Test:\", len(df_test))"
   ]
  },
  {
   "cell_type": "markdown",
   "id": "928f618f-0fc5-44a9-a451-b669825cd54b",
   "metadata": {},
   "source": [
    "### Preprocess images"
   ]
  },
  {
   "cell_type": "markdown",
   "id": "90341764-e68d-46a7-9c68-eedf2093c368",
   "metadata": {},
   "source": [
    "### image size"
   ]
  },
  {
   "cell_type": "code",
   "execution_count": null,
   "id": "0672c520-dffe-44cb-bafc-9b98cca739cf",
   "metadata": {},
   "outputs": [],
   "source": [
    "image_size = (50,50)"
   ]
  },
  {
   "cell_type": "code",
   "execution_count": null,
   "id": "dd10bbe3-c9ef-4ecc-a355-e5af3668fa56",
   "metadata": {},
   "outputs": [],
   "source": [
    "\n",
    "def preprocess_image(img, size=image_size):\n",
    "    img = img.resize(size)\n",
    "    img = img.convert(\"L\")\n",
    "    arr = np.array(img, dtype=np.float32)   \n",
    "    arr = arr.flatten()\n",
    "    arr /= 255\n",
    "    return arr"
   ]
  },
  {
   "cell_type": "markdown",
   "id": "1442c3d5-296f-44a9-94e9-9701aade3279",
   "metadata": {},
   "source": [
    "### one hot encoding function"
   ]
  },
  {
   "cell_type": "code",
   "execution_count": null,
   "id": "16709ac3-ee01-45e7-8a9f-6b9694d1d9c8",
   "metadata": {},
   "outputs": [],
   "source": [
    "  \n",
    "def one_hot(Y, num_classes):\n",
    "    Y = Y.astype(int)\n",
    "    m = Y.shape[0]\n",
    "    Y_oh = np.zeros((m, num_classes), dtype=np.int32)\n",
    "    Y_oh[np.arange(m), Y] = 1\n",
    "    return Y_oh\n"
   ]
  },
  {
   "cell_type": "markdown",
   "id": "03f94743-8617-417e-9554-10ba3ebb89e9",
   "metadata": {},
   "source": [
    "### change dataset format"
   ]
  },
  {
   "cell_type": "markdown",
   "id": "2bacd855-c98a-41eb-b34a-0abb2c584418",
   "metadata": {},
   "source": [
    "### Prepare train df"
   ]
  },
  {
   "cell_type": "code",
   "execution_count": null,
   "id": "55d9089c-7fdf-4d6f-b10d-4776a98ed61b",
   "metadata": {},
   "outputs": [],
   "source": [
    "total_pixels = image_size[0]*image_size[1]\n",
    "num_classes = 12\n",
    "number_images = len(df_train)\n",
    "\n",
    "X_train = np.zeros((number_images, total_pixels), dtype=np.float32)\n",
    "for i, path in enumerate(df_train[\"path\"]):\n",
    "    X_train[i,:] = preprocess_image(Image.open(path))\n",
    "print(X_train.shape)\n",
    "X_train = X_train / 255.0\n",
    "print(X_train.shape)\n",
    "Y_train = one_hot(np.array(df_train[\"label\"].values.astype(\"float32\")), num_classes)\n",
    "\n"
   ]
  },
  {
   "cell_type": "markdown",
   "id": "0262baf8-26ca-4c23-b343-180419e80c6f",
   "metadata": {},
   "source": [
    "### Prepare test df"
   ]
  },
  {
   "cell_type": "code",
   "execution_count": null,
   "id": "e0fbe665-f4c6-421c-a871-5d61132bae71",
   "metadata": {},
   "outputs": [],
   "source": [
    "number_images = len(df_test)\n",
    "m_test = len(df_test)\n",
    "X_test = np.zeros((total_pixels, number_images), dtype=np.float32)\n",
    "for i, path in enumerate(df_test[\"path\"]):\n",
    "    X_test[:, i] = preprocess_image(Image.open(path))\n",
    "    \n",
    "X_test = X_test / 255.0\n",
    "Y_test = one_hot(np.array(df_test[\"label\"].values.astype(\"float32\")), num_classes)\n",
    "print(X_test.shape)"
   ]
  },
  {
   "cell_type": "code",
   "execution_count": null,
   "id": "5f587669-2959-4876-9ab8-2f90e91e1d12",
   "metadata": {},
   "outputs": [],
   "source": [
    "model = Sequential([\n",
    "    Dense(20, activation='relu', input_shape=(X_train.shape[1],)),\n",
    "    Dense(20, activation='relu'),\n",
    "    Dense(num_classes, activation='softmax')\n",
    "])\n"
   ]
  },
  {
   "cell_type": "code",
   "execution_count": null,
   "id": "02d1b170-9752-4333-9ef7-8a74c983a060",
   "metadata": {},
   "outputs": [],
   "source": [
    "model.compile(\n",
    "    optimizer='adam',\n",
    "    loss='categorical_crossentropy',\n",
    "    metrics=['accuracy']\n",
    ")\n"
   ]
  },
  {
   "cell_type": "code",
   "execution_count": null,
   "id": "39bcd79e-aef0-4d3b-80da-2fc998c62038",
   "metadata": {},
   "outputs": [],
   "source": [
    "history = model.fit(\n",
    "    X_train, Y_train,\n",
    "    epochs=20,\n",
    "    batch_size=32,\n",
    "    validation_data=(X_test, Y_test)\n",
    ")\n"
   ]
  },
  {
   "cell_type": "code",
   "execution_count": null,
   "id": "add85d7a-d918-48ee-bf04-eb3ce9605149",
   "metadata": {},
   "outputs": [],
   "source": [
    "loss, accuracy = model.evaluate(X_test, Y_test)\n",
    "print(f\"Test Accuracy: {accuracy * 100:.2f}%\")\n"
   ]
  },
  {
   "cell_type": "markdown",
   "id": "67b0d6af-975e-4621-aedb-39d1b1ad3e1b",
   "metadata": {},
   "source": [
    "## Homework 2: Use tensorflow to create and train the neural network "
   ]
  },
  {
   "cell_type": "markdown",
   "id": "5cac0654-fb0c-4e2f-a7c1-586c8c1671cc",
   "metadata": {},
   "source": [
    "#### Do not change the code from above"
   ]
  },
  {
   "cell_type": "code",
   "execution_count": null,
   "id": "952c6ce4-521c-4f7b-91db-8eb2e09a9772",
   "metadata": {},
   "outputs": [],
   "source": []
  }
 ],
 "metadata": {
  "kernelspec": {
   "display_name": "Python (TensorFlow)",
   "language": "python",
   "name": "tfenv"
  },
  "language_info": {
   "codemirror_mode": {
    "name": "ipython",
    "version": 3
   },
   "file_extension": ".py",
   "mimetype": "text/x-python",
   "name": "python",
   "nbconvert_exporter": "python",
   "pygments_lexer": "ipython3",
   "version": "3.12.3"
  }
 },
 "nbformat": 4,
 "nbformat_minor": 5
}
